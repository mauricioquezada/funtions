{
  "nbformat": 4,
  "nbformat_minor": 0,
  "metadata": {
    "colab": {
      "provenance": [],
      "authorship_tag": "ABX9TyP+3shiXyWwtz3fGKhlGUrN",
      "include_colab_link": true
    },
    "kernelspec": {
      "name": "python3",
      "display_name": "Python 3"
    },
    "language_info": {
      "name": "python"
    }
  },
  "cells": [
    {
      "cell_type": "markdown",
      "metadata": {
        "id": "view-in-github",
        "colab_type": "text"
      },
      "source": [
        "<a href=\"https://colab.research.google.com/github/mauricioquezada/Calendario/blob/main/funciones.ipynb\" target=\"_parent\"><img src=\"https://colab.research.google.com/assets/colab-badge.svg\" alt=\"Open In Colab\"/></a>"
      ]
    },
    {
      "cell_type": "code",
      "execution_count": 29,
      "metadata": {
        "id": "QbvMWQZjYXqq",
        "colab": {
          "base_uri": "https://localhost:8080/"
        },
        "outputId": "fcd6d9af-72c4-4fb6-e3a5-e39dc287d7ed"
      },
      "outputs": [
        {
          "output_type": "stream",
          "name": "stdout",
          "text": [
            "La media es: 13.181818181818182\n"
          ]
        }
      ],
      "source": [
        "def calcular_media(datos):\n",
        "    suma = 0\n",
        "    n = len(datos)\n",
        "    if n == 0:\n",
        "        return\n",
        "    for dato in datos:\n",
        "        suma += dato\n",
        "    media = suma / n\n",
        "    return media\n",
        "datos = [12, 15, 14, 10, 8, 15, 16, 14, 12, 14, 15]\n",
        "resultado_media = calcular_media(datos)\n",
        "print(\"La media es:\", resultado_media)"
      ]
    },
    {
      "cell_type": "code",
      "source": [
        " def media(lista):\n",
        "    suma = 0\n",
        "    n = len(lista)\n",
        "    if n == 0:\n",
        "        return 0\n",
        "    for numero in lista:\n",
        "        suma += numero\n",
        "    media = suma / n\n",
        "    return media\n",
        "lista = [12, 15, 14, 10, 8, 15, 16, 14, 12, 14, 15]\n",
        "resultado = media(lista)\n",
        "print(\"La media es:\", resultado)\n",
        "\n"
      ],
      "metadata": {
        "colab": {
          "base_uri": "https://localhost:8080/"
        },
        "id": "n4krVaiXcH0M",
        "outputId": "21ed8483-a1e1-48e5-ab23-d6997963058b"
      },
      "execution_count": 30,
      "outputs": [
        {
          "output_type": "stream",
          "name": "stdout",
          "text": [
            "La media es: 13.181818181818182\n"
          ]
        }
      ]
    },
    {
      "cell_type": "code",
      "source": [
        "def mediana(lista):\n",
        "    # Ordenamos la lista\n",
        "    lista_ordenada = sorted(lista)\n",
        "    n = len(lista)  # Calculamos la longitud de la lista\n",
        "\n",
        "    # Verificamos si la lista está vacía\n",
        "    if n == 0:\n",
        "        return 0  # Retornamos 0 si la lista está vacía\n",
        "\n",
        "    # Caso para listas con número par de elementos\n",
        "    if n % 2 == 0:\n",
        "        mitad1 = lista_ordenada[n // 2 - 1]\n",
        "        mitad2 = lista_ordenada[n // 2]\n",
        "        return (mitad1 + mitad2) / 2  # Promediamos los dos valores centrales\n",
        "    # Caso para listas con número impar de elementos\n",
        "    else:\n",
        "        return lista_ordenada[n // 2]  # Retornamos el valor central\n",
        "\n",
        "# Ejemplo de uso\n",
        "lista_pares = [12, 15, 14, 10, 8, 15, 16, 14, 12, 14, 15]\n",
        "lista_impares = [12, 15, 14, 10, 8, 15, 16, 14, 12, 14, 15]\n",
        "lista_vacia = []\n",
        "\n",
        "print(\"Mediana de lista par:\", mediana(lista_pares))\n",
        "print(\"Mediana de lista impar:\", mediana(lista_impares))\n",
        "print(\"Mediana de lista vacía:\", mediana(lista_vacia))"
      ],
      "metadata": {
        "colab": {
          "base_uri": "https://localhost:8080/"
        },
        "id": "8rKQ8vDou9ct",
        "outputId": "14df949a-3ae2-4358-a77a-7894f4f257cc"
      },
      "execution_count": 35,
      "outputs": [
        {
          "output_type": "stream",
          "name": "stdout",
          "text": [
            "Mediana de lista par: 14\n",
            "Mediana de lista impar: 14\n",
            "Mediana de lista vacía: 0\n"
          ]
        }
      ]
    },
    {
      "cell_type": "code",
      "execution_count": null,
      "metadata": {
        "colab": {
          "base_uri": "https://localhost:8080/"
        },
        "outputId": "fcd6d9af-72c4-4fb6-e3a5-e39dc287d7ed",
        "id": "R4HycG2kxpje"
      },
      "outputs": [
        {
          "output_type": "stream",
          "name": "stdout",
          "text": [
            "La media es: 13.181818181818182\n"
          ]
        }
      ],
      "source": [
        "def calcular_media(datos):\n",
        "    suma = 0\n",
        "    n = len(datos)\n",
        "    if n == 0:\n",
        "        return\n",
        "    for dato in datos:\n",
        "        suma += dato\n",
        "    media = suma / n\n",
        "    return media\n",
        "datos = [12, 15, 14, 10, 8, 15, 16, 14, 12, 14, 15]\n",
        "resultado_media = calcular_media(datos)\n",
        "print(\"La media es:\", resultado_media)"
      ]
    },
    {
      "cell_type": "code",
      "execution_count": null,
      "metadata": {
        "colab": {
          "base_uri": "https://localhost:8080/"
        },
        "outputId": "fcd6d9af-72c4-4fb6-e3a5-e39dc287d7ed",
        "id": "Pt85GGiaxouS"
      },
      "outputs": [
        {
          "output_type": "stream",
          "name": "stdout",
          "text": [
            "La media es: 13.181818181818182\n"
          ]
        }
      ],
      "source": [
        "def calcular_media(datos):\n",
        "    suma = 0\n",
        "    n = len(datos)\n",
        "    if n == 0:\n",
        "        return\n",
        "    for dato in datos:\n",
        "        suma += dato\n",
        "    media = suma / n\n",
        "    return media\n",
        "datos = [12, 15, 14, 10, 8, 15, 16, 14, 12, 14, 15]\n",
        "resultado_media = calcular_media(datos)\n",
        "print(\"La media es:\", resultado_media)"
      ]
    },
    {
      "cell_type": "code",
      "execution_count": null,
      "metadata": {
        "colab": {
          "base_uri": "https://localhost:8080/"
        },
        "outputId": "fcd6d9af-72c4-4fb6-e3a5-e39dc287d7ed",
        "id": "yZ37opyNxjKu"
      },
      "outputs": [
        {
          "output_type": "stream",
          "name": "stdout",
          "text": [
            "La media es: 13.181818181818182\n"
          ]
        }
      ],
      "source": [
        "def calcular_media(datos):\n",
        "    suma = 0\n",
        "    n = len(datos)\n",
        "    if n == 0:\n",
        "        return\n",
        "    for dato in datos:\n",
        "        suma += dato\n",
        "    media = suma / n\n",
        "    return media\n",
        "datos = [12, 15, 14, 10, 8, 15, 16, 14, 12, 14, 15]\n",
        "resultado_media = calcular_media(datos)\n",
        "print(\"La media es:\", resultado_media)"
      ]
    }
  ]
}