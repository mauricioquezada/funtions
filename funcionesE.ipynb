{
  "nbformat": 4,
  "nbformat_minor": 0,
  "metadata": {
    "colab": {
      "provenance": [],
      "authorship_tag": "ABX9TyOvCBq58LxzDGk4NzKoz3Ub",
      "include_colab_link": true
    },
    "kernelspec": {
      "name": "python3",
      "display_name": "Python 3"
    },
    "language_info": {
      "name": "python"
    }
  },
  "cells": [
    {
      "cell_type": "markdown",
      "metadata": {
        "id": "view-in-github",
        "colab_type": "text"
      },
      "source": [
        "<a href=\"https://colab.research.google.com/github/mauricioquezada/funtions/blob/main/funcionesE.ipynb\" target=\"_parent\"><img src=\"https://colab.research.google.com/assets/colab-badge.svg\" alt=\"Open In Colab\"/></a>"
      ]
    },
    {
      "cell_type": "markdown",
      "source": [],
      "metadata": {
        "id": "SOwe_a3Kxh3R"
      }
    },
    {
      "cell_type": "markdown",
      "source": [
        "### Crear las funciones para las siguiente medidas:\n",
        "- Media\n",
        "- Mediana\n",
        "- Moda\n",
        "- Varianza\n",
        "- Desviación Estandar\n",
        "- Coeficiente de variación\n",
        "- Normalización Z\n",
        "\n",
        "1. Definición formal de cada una de las medidas\n",
        "2. Código de genración de funciones\n",
        "3. Explicación del proceso realizado\n",
        "4. Referencias\n",
        "\n",
        "$$ \\bar{x} = \\frac{1}{n} \\sum_{i=1}^{n} x_{i} $$\n"
      ],
      "metadata": {
        "id": "5PXTRDrHy7kV"
      }
    },
    {
      "cell_type": "markdown",
      "source": [
        "# Media"
      ],
      "metadata": {
        "id": "u4pfgOyJ9piC"
      }
    },
    {
      "cell_type": "code",
      "execution_count": 29,
      "metadata": {
        "id": "QbvMWQZjYXqq",
        "colab": {
          "base_uri": "https://localhost:8080/"
        },
        "outputId": "fcd6d9af-72c4-4fb6-e3a5-e39dc287d7ed"
      },
      "outputs": [
        {
          "output_type": "stream",
          "name": "stdout",
          "text": [
            "La media es: 13.181818181818182\n"
          ]
        }
      ],
      "source": [
        "def calcular_media(datos):\n",
        "    suma = 0\n",
        "    n = len(datos)\n",
        "    if n == 0:\n",
        "        return\n",
        "    for dato in datos:\n",
        "        suma += dato\n",
        "    media = suma / n\n",
        "    return media\n",
        "datos = [12, 15, 14, 10, 8, 15, 16, 14, 12, 14, 15]\n",
        "resultado_media = calcular_media(datos)\n",
        "print(\"La media es:\", resultado_media)"
      ]
    },
    {
      "cell_type": "code",
      "source": [
        " def media(lista):\n",
        "    suma = 0\n",
        "    n = len(lista)\n",
        "    if n == 0:\n",
        "        return 0\n",
        "    for numero in lista:\n",
        "        suma += numero\n",
        "    media = suma / n\n",
        "    return media\n",
        "lista = [12, 15, 14, 10, 8, 15, 16, 14, 12, 14, 15]\n",
        "resultado = media(lista)\n",
        "print(\"La media es:\", resultado)\n",
        "\n"
      ],
      "metadata": {
        "colab": {
          "base_uri": "https://localhost:8080/"
        },
        "id": "n4krVaiXcH0M",
        "outputId": "dcacd7f5-3602-454e-a35a-fdfb794d210e"
      },
      "execution_count": 5,
      "outputs": [
        {
          "output_type": "stream",
          "name": "stdout",
          "text": [
            "La media es: 13.181818181818182\n"
          ]
        }
      ]
    },
    {
      "cell_type": "markdown",
      "source": [
        "# mediana"
      ],
      "metadata": {
        "id": "8xYoBx-g9xJh"
      }
    },
    {
      "cell_type": "code",
      "source": [
        "def mediana(lista):\n",
        "    lista_ordenada = sorted(lista)                                         # Ordenamos la lista\n",
        "    n = len(lista)                                                        # se  Calcula la longitud de la lista\n",
        "    if n == 0:                                                         #  se crea un if par Verificar  si la lista está vacía\n",
        "        return 0                                                            # Retornamos 0 si la lista está vacía\n",
        "    if n % 2 == 0:                                                       # se crea un if  para listas con números pares  de elementos de la lista\n",
        "        mitad1 = lista_ordenada[n // 2 - 1]\n",
        "        mitad2 = lista_ordenada[n // 2]\n",
        "        return (mitad1 + mitad2) / 2  # Promedios de los dos valores centrales\n",
        "    else:\n",
        "        return lista_ordenada[n // 2]  # Retornamos el valor central\n",
        "# lista de ejemplo\n",
        "lista_pares = [12, 15, 14, 10, 8, 15, 16, 14, 12, 14, 15]\n",
        "lista_impares = [12, 15, 14, 10, 8, 15, 16, 14, 12, 14, 15]\n",
        "lista_vacia = []\n",
        "print(\"Mediana de lista par:\", mediana(lista_pares))\n",
        "print(\"Mediana de lista impar:\", mediana(lista_impares))\n",
        "print(\"Mediana de lista vacía:\", mediana(lista_vacia))"
      ],
      "metadata": {
        "colab": {
          "base_uri": "https://localhost:8080/"
        },
        "id": "8rKQ8vDou9ct",
        "outputId": "14df949a-3ae2-4358-a77a-7894f4f257cc"
      },
      "execution_count": 35,
      "outputs": [
        {
          "output_type": "stream",
          "name": "stdout",
          "text": [
            "Mediana de lista par: 14\n",
            "Mediana de lista impar: 14\n",
            "Mediana de lista vacía: 0\n"
          ]
        }
      ]
    },
    {
      "cell_type": "code",
      "execution_count": 7,
      "metadata": {
        "colab": {
          "base_uri": "https://localhost:8080/"
        },
        "outputId": "cce5d203-8f9b-43ce-fe54-186fe194b6cb",
        "id": "R4HycG2kxpje"
      },
      "outputs": [
        {
          "output_type": "stream",
          "name": "stdout",
          "text": [
            "La media es: 13.181818181818182\n"
          ]
        }
      ],
      "source": [
        "def calcular_media(datos):\n",
        "    suma = 0\n",
        "    n = len(datos)\n",
        "    if n == 0:\n",
        "        return\n",
        "    for dato in datos:\n",
        "        suma += dato\n",
        "    media = suma / n\n",
        "    return media\n",
        "datos = [12, 15, 14, 10, 8, 15, 16, 14, 12, 14, 15]\n",
        "resultado_media = calcular_media(datos)\n",
        "print(\"La media es:\", resultado_media)"
      ]
    },
    {
      "cell_type": "markdown",
      "source": [
        "# Moda"
      ],
      "metadata": {
        "id": "lKu40Ix--C-M"
      }
    },
    {
      "cell_type": "code",
      "execution_count": 10,
      "metadata": {
        "colab": {
          "base_uri": "https://localhost:8080/"
        },
        "outputId": "16d56d1d-5148-4adc-b385-a2db34866b99",
        "id": "Pt85GGiaxouS"
      },
      "outputs": [
        {
          "output_type": "stream",
          "name": "stdout",
          "text": [
            "La moda es: [15, 14]\n"
          ]
        }
      ],
      "source": [
        "datos = [12, 15, 14, 10, 8, 15, 16, 14, 12, 14, 15]  # se define desde el principio donde se tiene una lista de numeros\n",
        "def moda(lista):                             # se define la funcion moda que toma un argumento lista\n",
        "    frecuencia = {}                          #Se inicia un diccionario vacío llamado frecuencia para almacenar la cantidad de veces que aparece cada uno de los  números en la lista\n",
        "                                              # Calcular la frecuencia de cada número en la lista mediante un bucle para contar la fracuencia\n",
        "    for numero in lista:\n",
        "        if numero in frecuencia:\n",
        "            frecuencia[numero] += 1               # operado de incremento\n",
        "        else:\n",
        "            frecuencia[numero] = 1\n",
        "    max_frecuencia = max(frecuencia.values())          # Identificar los números que tienen la frecuencia máxima\n",
        "    modas = [k for k, v in frecuencia.items() if v == max_frecuencia]    #lista de pares clave-valor (key-value pairs) del diccionario frecuencia                                                                   # Devolver la moda si es única o todas las modas si hay varias\n",
        "    if len(modas) == 1:\n",
        "        return modas[0]\n",
        "    else:\n",
        "        return modas                                                 # Llammos la función\n",
        "resultado_moda = moda(datos)\n",
        "print(\"La moda es:\", resultado_moda)"
      ]
    },
    {
      "cell_type": "markdown",
      "source": [
        "# Varianza\n",
        "#La varianza mide la dispersión de los datos en relación a la media. Se calcula como el promedio de las diferencias elevadas al cuadrado entre cada valor y la media."
      ],
      "metadata": {
        "id": "NvEjWb6b7R1u"
      }
    },
    {
      "cell_type": "code",
      "execution_count": 9,
      "metadata": {
        "colab": {
          "base_uri": "https://localhost:8080/"
        },
        "outputId": "06976af2-2d2b-4631-ccea-b01163ecf288",
        "id": "yZ37opyNxjKu"
      },
      "outputs": [
        {
          "output_type": "stream",
          "name": "stdout",
          "text": [
            "La varianza es: 5.421487603305786\n"
          ]
        }
      ],
      "source": [
        "def varianza(lista):\n",
        "    media = calcular_media(lista)\n",
        "    suma_cuadrados_diferencias = sum((x - media) ** 2 for x in lista)\n",
        "    varianza = suma_cuadrados_diferencias / len(lista)\n",
        "    return varianza\n",
        "datos = [12, 15, 14, 10, 8, 15, 16, 14, 12, 14, 15]\n",
        "resultado_varianza = varianza(datos)\n",
        "print(\"La varianza es:\", resultado_varianza)\n",
        "\n"
      ]
    },
    {
      "cell_type": "markdown",
      "source": [
        "# Desviación Estándar\n",
        "# La desviación estándar es la raíz cuadrada de la varianza"
      ],
      "metadata": {
        "id": "kPL8HWFe9MYQ"
      }
    },
    {
      "cell_type": "code",
      "source": [
        "import math\n",
        "def media(lista):\n",
        "    return sum(lista) / len(lista)\n",
        "def varianza(lista):                                                 # Se crea la función para calcular la varianza\n",
        "    mu = media(lista)                                                #Se calcula la media\n",
        "    suma_diferencias_cuadradas = sum((x - mu) ** 2 for x in lista)  # Suma de las diferencias al cuadrado\n",
        "    return suma_diferencias_cuadradas / len(lista)                  # Promedio de estas diferencias\n",
        "def desviacion_estandar(lista):                                      # Se crea la función para calcular la desviación estándar\n",
        "    var = varianza(lista)                                             #Se Llama a la funciónde de la varianza\n",
        "    return math.sqrt(var)                                            # Se devuelve la raíz cuadrada de la varianza del paso anterior\n",
        "datos = [12, 15, 14, 10, 8, 15, 16, 14, 12, 14, 15]                    # Lista de ejemplo\n",
        "resultado_desviacion_estandar = desviacion_estandar(datos)\n",
        "print(\"La desviación estándar es:\", resultado_desviacion_estandar)"
      ],
      "metadata": {
        "colab": {
          "base_uri": "https://localhost:8080/"
        },
        "id": "OZF632KyJf42",
        "outputId": "bd65fb4c-ac59-421f-ba03-c4d1b61f5621"
      },
      "execution_count": 14,
      "outputs": [
        {
          "output_type": "stream",
          "name": "stdout",
          "text": [
            "La desviación estándar es: 2.328408813611945\n"
          ]
        }
      ]
    },
    {
      "cell_type": "markdown",
      "source": [
        "# Coeficiente de Variación (CV)"
      ],
      "metadata": {
        "id": "VytE-Hd89WwX"
      }
    },
    {
      "cell_type": "code",
      "source": [
        "import math                                                       · forma que python ofrece para calcular la desviación estándar y raiz cuadrada\n",
        "def media(lista):\n",
        "    return sum(lista) / len(lista)\n",
        "def varianza(lista):                                                 # Se crea la función para calcular la varianza\n",
        "    mu = media(lista)                                                #Se calcula la media\n",
        "    suma_diferencias_cuadradas = sum((x - mu) ** 2 for x in lista)  # Suma de las diferencias al cuadrado\n",
        "    return suma_diferencias_cuadradas / len(lista)                  # Promedio de estas diferencias\n",
        "def desviacion_estandar(lista):                                      # Se crea la función para calcular la desviación estándar\n",
        "    var = varianza(lista)                                             #Se Llama a la funciónde de la varianza\n",
        "    return math.sqrt(var)                                            # Se devuelve la raíz cuadrada de la varianza del paso anterior\n",
        "def coeficiente_variacion(lista):\n",
        "    desviacion = desviacion_estandar(lista)                           # Se crea la función para calcular el coeficiente de variación que se compone calcular la desviacion estandar y la media\n",
        "    media_valor = media(lista)                                            # y el coeficiente de variación (en porcentaje)\n",
        "    return (desviacion / media_valor) * 100\n",
        "datos = [12, 15, 14, 10, 8, 15, 16, 14, 12, 14, 15]                    # Lista de ejemplo\n",
        "resultado_cv = coeficiente_variacion(datos)\n",
        "print(\" el coeficiente de variacion es:\", resultado_cv)"
      ],
      "metadata": {
        "colab": {
          "base_uri": "https://localhost:8080/"
        },
        "id": "aO7M9b2QRSGS",
        "outputId": "78ff7593-66bd-41c4-f9c5-8e5c57b0fbcc"
      },
      "execution_count": 18,
      "outputs": [
        {
          "output_type": "stream",
          "name": "stdout",
          "text": [
            " el coeficiente de variacion es: 17.663790999814754\n"
          ]
        }
      ]
    },
    {
      "cell_type": "markdown",
      "source": [
        "# Normalización Z (Z-Score)\n",
        "# Restar la media de cada valor.\n",
        "#Dividir cada diferencia por la desviación estándar."
      ],
      "metadata": {
        "id": "Ubkcn8gU9cSj"
      }
    },
    {
      "cell_type": "code",
      "source": [
        "def media(lista):\n",
        "    return sum(lista) / len(lista) if lista else 0                            # Media\n",
        "def desviacion_estandar(lista):\n",
        "    n = len(lista)\n",
        "    if n == 0:\n",
        "        return 0\n",
        "    media_valor = media(lista)\n",
        "    varianza = sum((x - media_valor) ** 2 for x in lista) / n             # Varianza\n",
        "    return varianza ** 0.5                                               # Desviación estándar\n",
        "datos = [12, 15, 14, 10, 8, 15, 16, 14, 12, 14, 15]                     # Lista de datos\n",
        "resultado_normalizacion_z = normalizacion_z(datos)                      #  mostrar la normalización Z\n",
        "print(\"La normalización Z es:\", resultado_normalizacion_z)"
      ],
      "metadata": {
        "colab": {
          "base_uri": "https://localhost:8080/"
        },
        "outputId": "f9b30192-58e5-4186-be82-00756a292000",
        "id": "KX8D-l81SUFf"
      },
      "execution_count": 22,
      "outputs": [
        {
          "output_type": "stream",
          "name": "stdout",
          "text": [
            "La normalización Z es: [-0.5075647261379697, 0.7808688094430304, 0.3513909642493637, -1.366520416525303, -2.2254761069126365, 0.7808688094430304, 1.210346654636697, 0.3513909642493637, -0.5075647261379697, 0.3513909642493637, 0.7808688094430304]\n"
          ]
        }
      ]
    },
    {
      "cell_type": "markdown",
      "source": [
        "# Referencias\n",
        "\n",
        "\n",
        "Almeyda, R. H. (2020). Análisis de datos con python - básico. Recurso Video de Youtube.\n",
        "\n",
        "Hinojosa Gutiérrez, Á. (2015). Python paso a paso.. RA-MA Editorial. https://elibro.net/es/lc/biblioibero/titulos/107213\n",
        "Recursos de revisión básica\n",
        "Martínez Ruiz, H. (2012). Metodología de la investigación. Cengage Learning. https://elibro.net/es/lc/biblioibero/titulos/39957\n",
        "\n",
        "Cuevas Álvarez, A. (2016). Python 3: curso práctico.. RA-MA Editorial. https://elibro.net/es/lc/biblioibero/titulos/106404\n",
        "\n",
        "Martínez, J. C. S., Forero, L. E. O., & Camacho, E. P. B. (2014). Estadística descriptiva y probabilidades. U. Externado de Colombia.\n"
      ],
      "metadata": {
        "id": "nkbkDAIY3V8V"
      }
    }
  ]
}